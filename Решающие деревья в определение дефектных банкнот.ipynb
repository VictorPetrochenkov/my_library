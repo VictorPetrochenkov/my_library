{
 "cells": [
  {
   "cell_type": "markdown",
   "metadata": {},
   "source": [
    "### Определение банкнот на фальшивость"
   ]
  },
  {
   "cell_type": "markdown",
   "metadata": {},
   "source": [
    "Информация о наборе данных:\n",
    "https://archive.ics.uci.edu/ml/datasets/banknote+authentication\n",
    "\n",
    "Данные были извлечены из изображений, которые были взяты из подлинных и поддельных образцов, похожих на банкноты. Для оцифровки использовалась промышленная камера, обычно используемая для проверки печати. Окончательные изображения имеют размер 400x 400 пикселей. За счет линзы объекта и расстояния до исследуемого объекта были получены полутоновые изображения с разрешением около 660 dpi. Инструмент Wavelet Transform использовался для извлечения функций из изображений.\n",
    "\n",
    "\n",
    "Информация об атрибутах:\n",
    "\n",
    "1. дисперсия изображения, преобразованного вейвлет-преобразованием (непрерывная)\n",
    "2. асимметрия изображения, преобразованного вейвлет-преобразованием (непрерывная)\n",
    "3. кратность изображения, преобразованного вейвлет-преобразованием (непрерывная)\n",
    "4. энтропия изображения (непрерывная"
   ]
  },
  {
   "cell_type": "code",
   "execution_count": 30,
   "metadata": {},
   "outputs": [],
   "source": [
    "import pandas as pd\n",
    "import numpy as np\n",
    "from sklearn.tree import DecisionTreeClassifier\n",
    "from sklearn.model_selection import train_test_split\n",
    "from sklearn.metrics import f1_score\n",
    "import matplotlib.pyplot as plt\n",
    "%matplotlib inline"
   ]
  },
  {
   "cell_type": "code",
   "execution_count": 31,
   "metadata": {},
   "outputs": [],
   "source": [
    "data = pd.read_csv('bill_authentication.csv')"
   ]
  },
  {
   "cell_type": "markdown",
   "metadata": {},
   "source": [
    "Параметры решающего дерева для решения задачи:\n",
    "\n",
    "- max_depth — максимальная глубина дерева.\n",
    "- max_features — максимальное число признаков, по которым ищется лучшее разбиение в дереве. Это нужно потому, что при большом количестве признаков будет «дорого» искать лучшее (по критерию типа прироста информации) разбиение среди всех признаков.\n",
    "- min_samples_leaf — минимальное число объектов в листе. У этого параметра есть понятная интерпретация: если он равен 5, то дерево будет порождать только те классифицирующие правила, которые верны как минимум для 5 объектов.\n",
    "\n",
    "Обучаем решающее дерево. Целевой переменной здесь является переменная Class. Размер тестовой выборки выбираем 0.2, random_state = 17 для разбиения и дерева. Максимальную глубину дерева определяем перебором (лучшее max_depth = 3), максимальное число признаков, по которым ищется лучшее разбиение в дереве — за (перебором находим лучшее max_features = 2). По максимальному значению f1-score определяем лучшее значение."
   ]
  },
  {
   "cell_type": "code",
   "execution_count": 32,
   "metadata": {},
   "outputs": [
    {
     "name": "stdout",
     "output_type": "stream",
     "text": [
      "0.958 3 18\n"
     ]
    }
   ],
   "source": [
    "X_train,X_test,Y_train,Y_test = train_test_split(data.iloc[:,:-1].values, data.iloc[:,-1:].values, \n",
    "                                                test_size=0.2, random_state=17)\n",
    "max_zn = 0\n",
    "for i in range(1,4):\n",
    "    for j in range(1,20):\n",
    "        model_DTree = DecisionTreeClassifier(max_depth=3, max_features = i,min_samples_leaf = j)\n",
    "        model_DTree = model_DTree.fit(X_train, Y_train)\n",
    "        Y_pred = model_DTree.predict(X_test)\n",
    "        f1_sc = f1_score(Y_test, Y_pred).round(3)\n",
    "        if f1_sc > max_zn:\n",
    "            max_zn = f1_sc\n",
    "            max_feature = i\n",
    "            samples_leaf = j\n",
    "            \n",
    "        \n",
    "print(max_zn,max_feature,samples_leaf)"
   ]
  },
  {
   "cell_type": "code",
   "execution_count": 33,
   "metadata": {},
   "outputs": [
    {
     "name": "stdout",
     "output_type": "stream",
     "text": [
      "[array([ 2.04378 , -0.38422 ,  1.437292,  0.76421 ])]\n"
     ]
    },
    {
     "data": {
      "text/plain": [
       "array([[ 5.591  , 10.4643 , -4.3839 , -4.3379 ],\n",
       "       [ 1.164  ,  3.913  , -4.5544 , -3.8672 ],\n",
       "       [ 3.2351 ,  9.647  , -3.2074 , -2.5948 ],\n",
       "       ...,\n",
       "       [-6.0598 ,  9.2952 , -0.43642, -6.3694 ],\n",
       "       [ 3.9663 , 10.1684 , -4.1131 , -4.6056 ],\n",
       "       [-3.551  ,  1.8955 ,  0.1865 , -2.4409 ]])"
      ]
     },
     "execution_count": 33,
     "metadata": {},
     "output_type": "execute_result"
    }
   ],
   "source": [
    "a = [np.array([2.04378,-0.38422,1.437292,0.76421])]\n",
    "print(a)\n",
    "X_test"
   ]
  },
  {
   "cell_type": "code",
   "execution_count": 34,
   "metadata": {},
   "outputs": [
    {
     "data": {
      "text/plain": [
       "array([0], dtype=int64)"
      ]
     },
     "execution_count": 34,
     "metadata": {},
     "output_type": "execute_result"
    }
   ],
   "source": [
    "Y_pred = model_DTree.predict(a)\n",
    "Y_pred"
   ]
  },
  {
   "cell_type": "code",
   "execution_count": null,
   "metadata": {},
   "outputs": [],
   "source": []
  }
 ],
 "metadata": {
  "kernelspec": {
   "display_name": "Python 3",
   "language": "python",
   "name": "python3"
  },
  "language_info": {
   "codemirror_mode": {
    "name": "ipython",
    "version": 3
   },
   "file_extension": ".py",
   "mimetype": "text/x-python",
   "name": "python",
   "nbconvert_exporter": "python",
   "pygments_lexer": "ipython3",
   "version": "3.8.3"
  }
 },
 "nbformat": 4,
 "nbformat_minor": 4
}
