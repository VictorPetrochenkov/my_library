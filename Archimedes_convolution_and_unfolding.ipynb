{
 "cells": [
  {
   "cell_type": "markdown",
   "metadata": {},
   "source": [
    "# ШИФРОВАНИЕ\n",
    "\n",
    "#### Алгоритм открыт мною в середине 80-х, я модифицировал свою теорему об алгебраических числах. "
   ]
  },
  {
   "cell_type": "code",
   "execution_count": 3,
   "metadata": {},
   "outputs": [],
   "source": [
    "# Импортируем необходимые библиотеки\n",
    "import math \n",
    "import regex as re"
   ]
  },
  {
   "cell_type": "code",
   "execution_count": 2,
   "metadata": {},
   "outputs": [],
   "source": [
    "# Задаём список символов алфавит, которыми будем формировать осмысленный текст.\n",
    "# ПОРЯДОК СИМВОЛОВ ПЕРВЫЙ КЛЮЧ К ПРАВИЛЬНОЙ ДЕШИФРОВКЕ\n",
    "\n",
    "Alfa_bet = [' ','а','б','в','г','д','е','ё','ж','з','и','й','к','л','м','н','о','п','р','с','т','у','ф','х',\\\n",
    "            'ц','ч','ш','щ','ъ','ы','ь','э','ю','я']\n",
    "\n",
    "# Определяем минимальное значение символьного сдвига, ниже которого шифрование невозможно.\n",
    "# Max_kod и sh ВТОРОЙ И ТРЕТИЙ КЛЮЧИ К ПРАВИЛЬНОЙ ДЕШИФРОВКЕ\n",
    "sh = 1 # Пример\n",
    "Max_kod = len(Alfa_bet) + sh"
   ]
  },
  {
   "cell_type": "code",
   "execution_count": 3,
   "metadata": {},
   "outputs": [],
   "source": [
    "# Задаём текст и обрабатываем его\n",
    "txtx = 'Привет всем!'\n",
    "\n",
    "p = re.compile('[^а-яё ]+')\n",
    "txtx = txtx.lower()\n",
    "txtx = re.sub(p,' ',txtx)\n",
    "while txtx.find('  ') !=-1:\n",
    "    txtx = txtx.replace('  ',' ')\n",
    "txtx_kod = txtx.strip()"
   ]
  },
  {
   "cell_type": "code",
   "execution_count": 4,
   "metadata": {},
   "outputs": [
    {
     "data": {
      "text/plain": [
       "[17, 18, 10, 3, 6, 20, 0, 3, 19, 6, 14]"
      ]
     },
     "execution_count": 4,
     "metadata": {},
     "output_type": "execute_result"
    }
   ],
   "source": [
    "# Переводим текст в список числовых элементов согласно порядковых номеров в алфавите.\n",
    "kod = [Alfa_bet.index(x) for x in txtx_kod]\n",
    "kod"
   ]
  },
  {
   "cell_type": "code",
   "execution_count": 5,
   "metadata": {},
   "outputs": [
    {
     "data": {
      "text/plain": [
       "[17, 53, 80, 108, 146, 195, 210, 248, 299, 321, 364]"
      ]
     },
     "execution_count": 5,
     "metadata": {},
     "output_type": "execute_result"
    }
   ],
   "source": [
    "# Основным условием свёртки является выполнение условия, что каждый последующий элемент списка kod, должен быть больше\n",
    "# или равен предыдущему. Для выполнения этого условия выполним преобразование исходного списка kod, следующим образом.\n",
    "kod_mod = []\n",
    "for x in range(0,len(kod)):\n",
    "    kod_mod.append(kod[x] + x*Max_kod)\n",
    "kod_mod"
   ]
  },
  {
   "cell_type": "code",
   "execution_count": 6,
   "metadata": {},
   "outputs": [
    {
     "name": "stdout",
     "output_type": "stream",
     "text": [
      "403250189865524112384000\n",
      "403250189865524112384457\n"
     ]
    }
   ],
   "source": [
    "# Вычисляем числитель кода и сдвигаем его ЧЕТВЁРТЫМ КЛЮЧОМ К ПРАВИЛЬНОЙ ДЕШИФРОВКЕ.\n",
    "# ЧЕТВЕРТЫЙ КЛЮЧ РЕКОМЕНДУЕТСЯ ИМЕТЬ ТОЙ ЖЕ РАЗРЯДНОСТИ, что И РАЗРЯДНОСТЬ числа N1\n",
    "\n",
    "ch_sh = 457\n",
    "N1 = 1\n",
    "for x in range(0,len(kod_mod)):\n",
    "    N1*=kod_mod[x]\n",
    "print(N1)\n",
    "N1 = N1 + ch_sh # Знак плюс или минус является ПЯТЫМ КЛЮЧОМ\n",
    "print(N1)"
   ]
  },
  {
   "cell_type": "code",
   "execution_count": 7,
   "metadata": {},
   "outputs": [
    {
     "name": "stdout",
     "output_type": "stream",
     "text": [
      "24173804521541604170333\n",
      "24173804521541643345796\n"
     ]
    }
   ],
   "source": [
    "# Вычисляем знаменатель кода и сдвигаем его ШЕСТЫМ КЛЮЧОМ К ПРАВИЛЬНОЙ ДЕШИФРОВКЕ\n",
    "# ШЕСТОЙ КЛЮЧ РЕКОМЕНДУЕТСЯ ИМЕТЬ ТОЙ ЖЕ РАЗРЯДНОСТИ, что И РАЗРЯДНОСТЬ числа N2\n",
    "\n",
    "zn_sh = 39175463\n",
    "N2 = 1\n",
    "for x in range(1,len(kod_mod)):\n",
    "    n = 1\n",
    "    for y in range(x,len(kod_mod)):\n",
    "        n*=kod_mod[y]\n",
    "    N2+=n\n",
    "print(N2)\n",
    "N2 = N2 + zn_sh # Знак плюс или минус является СЕДЬМЫМ КЛЮЧОМ\n",
    "print(N2)\n",
    "    \n"
   ]
  },
  {
   "cell_type": "markdown",
   "metadata": {},
   "source": [
    "Параметры:\n",
    "\n",
    "N1 = 403250189865524112384457\n",
    "\n",
    "N2 = 24173804521541643345796\n",
    "\n",
    "Передаются по открытым каналам связи.\n",
    "Ключами и алфавитом (полностью или целиком) обмениваются стороны по закрытым каналам связи. Например алфавит, можно считать\n",
    "открытым ключом."
   ]
  },
  {
   "cell_type": "markdown",
   "metadata": {},
   "source": [
    "# ДЕШИФРОВАНИЕ"
   ]
  },
  {
   "cell_type": "code",
   "execution_count": 8,
   "metadata": {},
   "outputs": [],
   "source": [
    "# Исходные, открытые данные.\n",
    "N1 = 403250189865524112384457\n",
    "N2 = 24173804521541643345796"
   ]
  },
  {
   "cell_type": "code",
   "execution_count": 9,
   "metadata": {},
   "outputs": [
    {
     "name": "stdout",
     "output_type": "stream",
     "text": [
      "403250189865524112384000 ---- 24173804521541604170333\n"
     ]
    }
   ],
   "source": [
    "# Задаётся список символов для дешифровки - Alfa_bet_dekod. Так же задаётся ПЕРВЫЙ КЛЮЧ СДВИГА - sh_dekod\n",
    "\n",
    "Alfa_bet_dekod = [' ','а','б','в','г','д','е','ё','ж','з','и','й','к','л','м','н','о','п','р','с','т','у','ф','х',\\\n",
    "            'ц','ч','ш','щ','ъ','ы','ь','э','ю','я']\n",
    "sh_dekod = 1\n",
    "Max_dekod = len(Alfa_bet_dekod) + sh_dekod\n",
    "\n",
    "# Задаются ЧЕТВЁРТЫЙ И ШЕСТОЙ КЛЮЧИ СДВИГА\n",
    "\n",
    "ch_sh = 457\n",
    "zn_sh = 39175463\n",
    "\n",
    "# Определяются исходные значения числителя и знаменателя закодированной рациональной дроби, при условии, что известны\n",
    "# ПЯТЫЙ и СЕДЬМОЙ КЛЮЧИ\n",
    "N1 = N1 - ch_sh\n",
    "N2 = N2 - zn_sh\n",
    "print(N1,'----',N2)\n"
   ]
  },
  {
   "cell_type": "code",
   "execution_count": 10,
   "metadata": {},
   "outputs": [
    {
     "name": "stdout",
     "output_type": "stream",
     "text": [
      "[17, 18, 10, 3, 6, 20, 0, 3, 19, 6, 14]\n",
      "привет всем\n"
     ]
    }
   ],
   "source": [
    "i = 0\n",
    "de_kod = []\n",
    "n2 = N2\n",
    "while n2 !=0:\n",
    "    n = math.ceil(N1/n2)\n",
    "    n2 = n*n2 - N1\n",
    "    de_kod.append(n - i*Max_dekod)\n",
    "    i+=1\n",
    "print(de_kod)\n",
    "\n",
    "# Дешифруем\n",
    "txtx = [Alfa_bet_dekod[x] for x in de_kod]\n",
    "print(''.join(txtx))"
   ]
  },
  {
   "cell_type": "markdown",
   "metadata": {},
   "source": [
    "# ПРИМЕЧАНИЕ\n",
    "\n",
    "1. Кодируемый текст рекомендуется разбивать на блоки, учитывая доступность вычислительной целочисленной математики.\n",
    "   Исходные числа получаются высокоразрядными.\n",
    "2. Представляю Вам самим посмотреть что будет если изменять СЕМЬ ключей\n",
    "3. Свои замечания отправляйте мне по адресу 4941737@mail.ru"
   ]
  },
  {
   "cell_type": "markdown",
   "metadata": {},
   "source": [
    "## ОПТИМИЗАЦИЯ\n",
    "#### Шифрование"
   ]
  },
  {
   "cell_type": "code",
   "execution_count": 11,
   "metadata": {},
   "outputs": [
    {
     "name": "stdout",
     "output_type": "stream",
     "text": [
      "[403250189865524112384457, 24173804521541643345796]\n"
     ]
    }
   ],
   "source": [
    "Alfa_bet = [' ','а','б','в','г','д','е','ё','ж','з','и','й','к','л','м','н','о','п','р','с','т','у','ф','х',\\\n",
    "            'ц','ч','ш','щ','ъ','ы','ь','э','ю','я'] # Алфавит\n",
    "keys = []\n",
    "keys.insert(0,Alfa_bet) # Первый ключ  - Алфавит\n",
    "keys.insert(1,len(keys[0])) # Второй ключ - количество элементов списка символов алфавита (можно исскуственно \n",
    "# добавлять ложные элементы)\n",
    "keys.insert(2,1) # Третий ключ - сдвиг. Значение больше нуля. Большой сдвиг влияет на разрядность.\n",
    "keys.insert(3,457) # Четвёртый ключ. Осуществляет сдвиг числителя кода.\n",
    "keys.insert(4,0) # Пятый ключ. Имеет значение 0 или 1. Осуществляет направление сдвига числителя кода.\n",
    "keys.insert(5,39175463) # Шестой ключ. Осуществляет сдвиг знаменателя кода.\n",
    "keys.insert(6,0) # Седьмой ключ. Имеет значение 0 или 1. Осуществляет направление сдвига знаменателя кода.\n",
    "\n",
    "p = re.compile('[^а-яё ]+')\n",
    "def cleaner_txt(text):\n",
    "    text = text.lower()\n",
    "    txtx = re.sub(p,' ',text)\n",
    "    while txtx.find('  ') !=-1:\n",
    "        txtx = txtx.replace('  ',' ')\n",
    "    return txtx.strip()\n",
    "\n",
    "def Archimedes_kode(txt,keys):\n",
    "    kode = []\n",
    "    N1 = ((-1)**keys[4])*keys[3] + math.prod([keys[0].index(txtx_kod[x]) + x*(keys[1] + keys[2]) \\\n",
    "                                              for x in range(0,len(txtx_kod))])\n",
    "    N2 = ((-1)**keys[6])*keys[5] +sum([math.prod([keys[0].index(txtx_kod[x]) + x*(keys[1] + keys[2]) \\\n",
    "                                              for x in range(0,len(txtx_kod))][y:]) for y in range(1,len(txtx_kod))])+1\n",
    "    kode.insert(0,N1)\n",
    "    kode.insert(1,N2)\n",
    "    return kode\n",
    "    \n",
    "\n",
    "kod_N12 = Archimedes_kode(cleaner_txt('Привет всем!'),keys)\n",
    "print(kod_N12)\n"
   ]
  },
  {
   "cell_type": "markdown",
   "metadata": {},
   "source": [
    "#### Дешифровка"
   ]
  },
  {
   "cell_type": "code",
   "execution_count": 12,
   "metadata": {},
   "outputs": [
    {
     "name": "stdout",
     "output_type": "stream",
     "text": [
      "привет всем\n"
     ]
    }
   ],
   "source": [
    "Alfa_bet = [' ','а','б','в','г','д','е','ё','ж','з','и','й','к','л','м','н','о','п','р','с','т','у','ф','х',\\\n",
    "            'ц','ч','ш','щ','ъ','ы','ь','э','ю','я'] # Алфавит\n",
    "keys = []\n",
    "keys.insert(0,Alfa_bet) # Первый ключ  - Алфавит\n",
    "keys.insert(1,len(keys[0])) # Второй ключ - количество элементов списка символов алфавита (можно исскуственно \n",
    "# добавлять ложные элементы)\n",
    "keys.insert(2,1) # Третий ключ - сдвиг. Значение больше нуля. Большой сдвиг влияет на разрядность.\n",
    "keys.insert(3,457) # Четвёртый ключ. Осуществляет сдвиг числителя кода.\n",
    "keys.insert(4,0) # Пятый ключ. Имеет значение 0 или 1. Осуществляет направление сдвига числителя кода.\n",
    "keys.insert(5,39175463) # Шестой ключ. Осуществляет сдвиг знаменателя кода.\n",
    "keys.insert(6,0) # Седьмой ключ. Имеет значение 0 или 1. Осуществляет направление сдвига знаменателя кода.\n",
    "\n",
    "def Archimedes_dekode(kod_N12,keys):\n",
    "    N1 =  kod_N12[0] - ((-1)**keys[4])*keys[3]\n",
    "    N2 =  kod_N12[1] - ((-1)**keys[6])*keys[5]\n",
    "    i = 0\n",
    "    de_kod = []\n",
    "    n2 = N2\n",
    "    while n2 !=0:\n",
    "        n = math.ceil(N1/n2)\n",
    "        n2 = n*n2 - N1\n",
    "        de_kod.append(n - i*(keys[1] + keys[2]))\n",
    "        i+=1\n",
    "    return ''.join([keys[0][x] for x in de_kod])\n",
    "    \n",
    "print(Archimedes_dekode(kod_N12,keys))    \n"
   ]
  },
  {
   "cell_type": "markdown",
   "metadata": {},
   "source": [
    "Устойчивость алгоритма по отношению к несанкционированной дешифровке в основном определяется ключом keys[0] – видом символов и их взаимном расположением в списке. \n",
    "\n",
    "Для алфавита русских символов с пробелом вероятность несанкционированной дешифровки определяется по формуле 1/n! (где n = 34, а знак ! – факториал).\n",
    "\n",
    "1/34! = 3.387157535521162e-39\n",
    "\n",
    "Общая формула вычисления стойкости определяется по формуле: 1/keys[0]/keys[1]/keys[2] /keys[3] /keys[4]/ keys[5] /keys[6]\n"
   ]
  },
  {
   "cell_type": "code",
   "execution_count": 5,
   "metadata": {},
   "outputs": [
    {
     "data": {
      "text/plain": [
       "3.387157535521162e-39"
      ]
     },
     "execution_count": 5,
     "metadata": {},
     "output_type": "execute_result"
    }
   ],
   "source": [
    "1/math.factorial(34)"
   ]
  },
  {
   "cell_type": "code",
   "execution_count": null,
   "metadata": {},
   "outputs": [],
   "source": [
    "# Устойчивость алгоритма по отношению к несанкционированной дешифровке в основном определяется ключом keys[0] – видом символов и их взаимном расположением в списке. Для алфавита русских символов с пробелом вероятность несанкционированной дешифровки определяется по формуле 1/n! (где n = 34, а знак ! – факториал).\n",
    "# 1/34! = 3.387157535521162e-39\n",
    "# Общая формула вычисления стойкости определяется по формуле: 1/keys[0]!/keys[1]/keys[2]/keys[3]/2/keys[5]/2\n"
   ]
  },
  {
   "cell_type": "code",
   "execution_count": null,
   "metadata": {},
   "outputs": [],
   "source": [
    "# The stability of the algorithm against unauthorized decryption is mainly determined by the keys[0] key - the type of characters and their relative position in the list. For the alphabet of Russian characters with a space, the probability of unauthorized decryption is determined by the formula 1/n! (where n = 34, and the sign ! – factorial).\n",
    "# 1/34! = 3.387157535521162e-39\n",
    "# The General formula for calculating the durability is defined by the formula: 1/keys[0]!/keys[1]/keys[2]/keys[3]/2/keys[5]/2"
   ]
  }
 ],
 "metadata": {
  "kernelspec": {
   "display_name": "Python 3",
   "language": "python",
   "name": "python3"
  },
  "language_info": {
   "codemirror_mode": {
    "name": "ipython",
    "version": 3
   },
   "file_extension": ".py",
   "mimetype": "text/x-python",
   "name": "python",
   "nbconvert_exporter": "python",
   "pygments_lexer": "ipython3",
   "version": "3.8.3"
  }
 },
 "nbformat": 4,
 "nbformat_minor": 4
}
